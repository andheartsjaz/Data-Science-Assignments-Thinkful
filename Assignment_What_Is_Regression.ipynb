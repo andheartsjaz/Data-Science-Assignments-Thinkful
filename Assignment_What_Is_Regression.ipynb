{
 "cells": [
  {
   "cell_type": "markdown",
   "metadata": {},
   "source": [
    "# Assignment - What is a regression task? _Module 16, Checkpoint 1 - Jaz Viccarro_"
   ]
  },
  {
   "cell_type": "markdown",
   "metadata": {},
   "source": [
    "1. Let's assume that you have World Bank data on financial, economic and social indicators for several countries. You want to measure the factors that affect the level of development in these countries. To this end, you decide to use per capita income as a proxy for the development level, which is defined as the national income divided by the population. You want to use some features in your dataset to predict per capita income. Is this task a classification or a regression task? Why?\n",
    "\n",
    "> **The above is a regression task because our objective is to predict the output of a continuous variable, which in the above example, is per capita income, which could take on any number and has no absolute zero.**\n",
    "\n",
    "2. Which of the following arguments are false and why?\n",
    "  - OLS is a special type of linear regression models: \n",
    "  > **False, OLS is an optimization algorithm.**\n",
    "  - Regression models become useless if they don’t meet the assumptions of linear regression. \n",
    "  > **True; if a model does not meet the assumptions of linear regression, then we could run into problems with creating the line of best fit, etc.**\n",
    "  - Estimation and prediction are the same thing in the context of linear regression models. \n",
    "  > **False, estimation is the process of minimizing the sum of squared distances.**\n",
    "  - Linear regression is only one kind of regression model. Regression problems can also be solved with other kind of models like Support Vector Machines or Random Forests. \n",
    "  > **False, linear regression is not the only type of regression model.**\n",
    "\n",
    "3. Assume that your project manager wants you to discover which free services your company offers make your customers buy more of your paid services. Formulate this task as a regression problem and write down the potential outcome and features that you’d like to work on.\n",
    "> **Avg. paid services revenue =  𝛼 + 𝛽1 * (Binarized column of Free Services offered by company 1) + 𝛽2 (Binarized column of Free Services offered by company 2)**"
   ]
  }
 ],
 "metadata": {
  "kernelspec": {
   "display_name": "Python 3",
   "language": "python",
   "name": "python3"
  },
  "language_info": {
   "codemirror_mode": {
    "name": "ipython",
    "version": 3
   },
   "file_extension": ".py",
   "mimetype": "text/x-python",
   "name": "python",
   "nbconvert_exporter": "python",
   "pygments_lexer": "ipython3",
   "version": "3.7.3"
  }
 },
 "nbformat": 4,
 "nbformat_minor": 2
}
