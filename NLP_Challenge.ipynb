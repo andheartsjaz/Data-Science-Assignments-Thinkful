{
  "nbformat": 4,
  "nbformat_minor": 0,
  "metadata": {
    "colab": {
      "name": "NLP Challenge.ipynb",
      "provenance": [],
      "mount_file_id": "1WR6sMz-qHNxSstIR6r-3SqG_w1fNmolt",
      "authorship_tag": "ABX9TyPDMCTCHAyDnVZtmNeDXgo6",
      "include_colab_link": true
    },
    "kernelspec": {
      "name": "python3",
      "display_name": "Python 3"
    }
  },
  "cells": [
    {
      "cell_type": "markdown",
      "metadata": {
        "id": "view-in-github",
        "colab_type": "text"
      },
      "source": [
        "<a href=\"https://colab.research.google.com/github/andheartsjaz/Data-Science-Assignments-Thinkful/blob/master/NLP_Challenge.ipynb\" target=\"_parent\"><img src=\"https://colab.research.google.com/assets/colab-badge.svg\" alt=\"Open In Colab\"/></a>"
      ]
    },
    {
      "cell_type": "code",
      "metadata": {
        "id": "SQwLhnB2qMnm",
        "colab_type": "code",
        "colab": {
          "base_uri": "https://localhost:8080/",
          "height": 73
        },
        "outputId": "7b2ccb01-3be4-4e70-8d28-e2bb3ec41f44"
      },
      "source": [
        "import numpy as np\n",
        "import pandas as pd\n",
        "import matplotlib.pyplot as plt\n",
        "import seaborn as sns\n",
        "\n",
        "\n",
        "\n",
        "%matplotlib inline \n",
        "%pylab inline\n",
        "#NLP\n",
        "\n",
        "import chardet\n",
        "import re\n",
        "from nltk.tokenize import word_tokenize\n",
        "from nltk.corpus import stopwords\n",
        "import string\n",
        "from pylab import rcParams\n",
        "from wordcloud import WordCloud\n",
        "from sklearn.feature_extraction.text import CountVectorizer\n",
        "from gensim.models import Word2Vec\n",
        "from sklearn.manifold import TSNE\n",
        "\n"
      ],
      "execution_count": null,
      "outputs": [
        {
          "output_type": "stream",
          "text": [
            "/usr/local/lib/python3.6/dist-packages/statsmodels/tools/_testing.py:19: FutureWarning: pandas.util.testing is deprecated. Use the functions in the public API at pandas.testing instead.\n",
            "  import pandas.util.testing as tm\n"
          ],
          "name": "stderr"
        },
        {
          "output_type": "stream",
          "text": [
            "Populating the interactive namespace from numpy and matplotlib\n"
          ],
          "name": "stdout"
        }
      ]
    },
    {
      "cell_type": "code",
      "metadata": {
        "id": "-UM1wbhbqwK7",
        "colab_type": "code",
        "colab": {
          "base_uri": "https://localhost:8080/",
          "height": 111
        },
        "outputId": "0ec0c2e3-77df-4449-8d1f-c81f631036a6"
      },
      "source": [
        "import nltk\n",
        "nltk.download('stopwords')\n",
        "nltk.download('punkt')"
      ],
      "execution_count": null,
      "outputs": [
        {
          "output_type": "stream",
          "text": [
            "[nltk_data] Downloading package stopwords to /root/nltk_data...\n",
            "[nltk_data]   Unzipping corpora/stopwords.zip.\n",
            "[nltk_data] Downloading package punkt to /root/nltk_data...\n",
            "[nltk_data]   Unzipping tokenizers/punkt.zip.\n"
          ],
          "name": "stdout"
        },
        {
          "output_type": "execute_result",
          "data": {
            "text/plain": [
              "True"
            ]
          },
          "metadata": {
            "tags": []
          },
          "execution_count": 2
        }
      ]
    },
    {
      "cell_type": "code",
      "metadata": {
        "id": "dp0tL390stph",
        "colab_type": "code",
        "colab": {
          "base_uri": "https://localhost:8080/",
          "height": 36
        },
        "outputId": "ffb6209a-2fbd-4137-d00d-0337b5b2b4d6"
      },
      "source": [
        "from google.colab import drive\n",
        "drive.mount('/content/drive')\n",
        "df=  pd.read_csv('/content/datasets_488316_909710_pink_floyd_lyrics.csv')"
      ],
      "execution_count": null,
      "outputs": [
        {
          "output_type": "stream",
          "text": [
            "Drive already mounted at /content/drive; to attempt to forcibly remount, call drive.mount(\"/content/drive\", force_remount=True).\n"
          ],
          "name": "stdout"
        }
      ]
    },
    {
      "cell_type": "code",
      "metadata": {
        "id": "DqJs_OD18jUB",
        "colab_type": "code",
        "colab": {
          "base_uri": "https://localhost:8080/",
          "height": 224
        },
        "outputId": "d49d1485-2ec9-4b46-98f0-43fdadde10e0"
      },
      "source": [
        "df.info()"
      ],
      "execution_count": null,
      "outputs": [
        {
          "output_type": "stream",
          "text": [
            "<class 'pandas.core.frame.DataFrame'>\n",
            "RangeIndex: 163 entries, 0 to 162\n",
            "Data columns (total 4 columns):\n",
            " #   Column      Non-Null Count  Dtype \n",
            "---  ------      --------------  ----- \n",
            " 0   album       163 non-null    object\n",
            " 1   song_title  163 non-null    object\n",
            " 2   year        163 non-null    object\n",
            " 3   lyrics      125 non-null    object\n",
            "dtypes: object(4)\n",
            "memory usage: 5.2+ KB\n"
          ],
          "name": "stdout"
        }
      ]
    },
    {
      "cell_type": "code",
      "metadata": {
        "id": "yRDGOPz1rERe",
        "colab_type": "code",
        "colab": {
          "base_uri": "https://localhost:8080/",
          "height": 224
        },
        "outputId": "6e73f541-6585-4db4-c1dc-58271ec15012"
      },
      "source": [
        "df.head()\n",
        "df.info()\n",
        "\n",
        "rcParams['figure.figsize'] = 10, 8\n",
        "wordcloud = WordCloud(\n",
        "    width = 3000,\n",
        "    height = 2000,\n",
        "    background_color = 'black').generate(str(df.track_name.values))\n",
        "\n",
        "plt.imshow(wordcloud, interpolation = 'bilinear');"
      ],
      "execution_count": null,
      "outputs": [
        {
          "output_type": "stream",
          "text": [
            "<class 'pandas.core.frame.DataFrame'>\n",
            "RangeIndex: 163 entries, 0 to 162\n",
            "Data columns (total 4 columns):\n",
            " #   Column      Non-Null Count  Dtype \n",
            "---  ------      --------------  ----- \n",
            " 0   album       163 non-null    object\n",
            " 1   song_title  163 non-null    object\n",
            " 2   year        163 non-null    object\n",
            " 3   lyrics      125 non-null    object\n",
            "dtypes: object(4)\n",
            "memory usage: 5.2+ KB\n"
          ],
          "name": "stdout"
        }
      ]
    },
    {
      "cell_type": "markdown",
      "metadata": {
        "id": "s_tduyW8-MCu",
        "colab_type": "text"
      },
      "source": [
        "First, make sure to clean your data. You can use the data cleaning techniques we covered in the second checkpoint. However, every text data is likely to have its own peculiar cleaning requirements. So, you should make sure that you clean your dataset appropriately."
      ]
    },
    {
      "cell_type": "code",
      "metadata": {
        "id": "0Vj6lDSA81qK",
        "colab_type": "code",
        "colab": {}
      },
      "source": [
        "df['lyrics'] = df['lyrics'].str.lower().replace(r'\\n',' ')\n",
        "\n",
        "stop_words_en = list(stopwords.words(\"english\"))\n",
        "\n",
        "punctuations = list(string.punctuation)\n",
        "forbidden = ['(',')',\"'\",',','oh',\"'s\", 'yo',\"'ll\", 'el', \"'re\",\"'m\",\"oh-oh\",\"'d\", \"n't\", \"``\", \"ooh\", \"uah\", \"'em\", \"'ve\", \"eh\", \"pa\", \"brr\", \"yeah\"] \n",
        "stop_words_all = set(stop_words_en + punctuations + forbidden)"
      ],
      "execution_count": null,
      "outputs": []
    },
    {
      "cell_type": "code",
      "metadata": {
        "id": "UM8x0xMw9Fh6",
        "colab_type": "code",
        "colab": {}
      },
      "source": [
        "def cleanse_text(tokens):\n",
        "    return [i for i in tokens if ((i not in list(stop_words_all)) and (re.search(r'\\d+', i) == None)) ]\n",
        "\n",
        "df=df.dropna()\n",
        "\n",
        "songs = []\n",
        "for song in df.lyrics.values:\n",
        "  songs.append(cleanse_text(word_tokenize(song)))\n",
        "\n",
        "  word2vec = Word2Vec(songs, min_count=5)"
      ],
      "execution_count": null,
      "outputs": []
    },
    {
      "cell_type": "markdown",
      "metadata": {
        "id": "4Bury0Kz99Yh",
        "colab_type": "text"
      },
      "source": [
        "Convert your text features into numerical form. You're free to choose your method. You can use BoW, tf-idf, word2vec or any other method you'd like to experiment. We recommend to use several methods so that you can compare the results with respect to the methods you apply. "
      ]
    },
    {
      "cell_type": "code",
      "metadata": {
        "id": "s2xP4ArC9Twh",
        "colab_type": "code",
        "colab": {
          "base_uri": "https://localhost:8080/",
          "height": 956
        },
        "outputId": "cc0ad182-5188-414f-fdb7-bec115ae9d05"
      },
      "source": [
        "def tsne_plot(model):\n",
        "    \"Creates and TSNE model and plots it\"\n",
        "    labels = []\n",
        "    tokens = []\n",
        "\n",
        "    for word in model.wv.vocab:\n",
        "        tokens.append(model[word])\n",
        "        labels.append(word)\n",
        "    \n",
        "    tsne_model = TSNE(perplexity=40, n_components=2, init='pca', n_iter=2500, random_state=23)\n",
        "    new_values = tsne_model.fit_transform(tokens)\n",
        "\n",
        "    x = []\n",
        "    y = []\n",
        "    for value in new_values:\n",
        "        x.append(value[0])\n",
        "        y.append(value[1])\n",
        "        \n",
        "    plt.figure(figsize=(16, 16)) \n",
        "    for i in range(len(x[:100])): #only top 200 words due to run time issue\n",
        "        plt.scatter(x[i],y[i])\n",
        "        plt.annotate(labels[i],\n",
        "                     xy=(x[i], y[i]),\n",
        "                     xytext=(5, 2),\n",
        "                     textcoords='offset points',\n",
        "                     ha='right',\n",
        "                     va='bottom')\n",
        "    plt.show();\n",
        "\n",
        "tsne_plot(word2vec)"
      ],
      "execution_count": null,
      "outputs": [
        {
          "output_type": "stream",
          "text": [
            "/usr/local/lib/python3.6/dist-packages/ipykernel_launcher.py:7: DeprecationWarning: Call to deprecated `__getitem__` (Method will be removed in 4.0.0, use self.wv.__getitem__() instead).\n",
            "  import sys\n"
          ],
          "name": "stderr"
        },
        {
          "output_type": "display_data",
          "data": {
            "image/png": "[encoded data removed]",
            "text/plain": [
              "<Figure size 1152x1152 with 1 Axes>"
            ]
          },
          "metadata": {
            "tags": [],
            "needs_background": "light"
          }
        }
      ]
    },
    {
      "cell_type": "markdown",
      "metadata": {
        "id": "cp5epTsr-E2b",
        "colab_type": "text"
      },
      "source": [
        "You can choose whatever NLP task you want. You're completely free on your choice. Some possible options are:\n",
        "\n",
        "    Sentiment analysis.\n",
        "    Text classification.\n",
        "    Topic modeling.\n",
        "    Developing a more sophisticated chatbot that what we developed in this module.\n",
        "    Training a deep learning model for a supervised or unsupervised task you choose.\n"
      ]
    },
    {
      "cell_type": "code",
      "metadata": {
        "id": "XsuPmbj29jhS",
        "colab_type": "code",
        "colab": {
          "base_uri": "https://localhost:8080/",
          "height": 261
        },
        "outputId": "ffd157bf-f1cd-4b98-bf7c-61d24e2663e8"
      },
      "source": [
        "\n",
        "from sklearn.feature_extraction.text import TfidfVectorizer, CountVectorizer\n",
        "from nltk.corpus import stopwords\n",
        "from nltk.stem import WordNetLemmatizer\n",
        "from sklearn.cluster import KMeans\n",
        "\n",
        "from sklearn.decomposition import PCA\n",
        "from sklearn.decomposition import TruncatedSVD\n",
        "from sklearn.linear_model import LogisticRegression\n",
        "from sklearn.model_selection import train_test_split\n",
        "from sklearn.dummy import DummyClassifier\n",
        "from sklearn.decomposition import LatentDirichletAllocation\n",
        "\n",
        "# components for features reduction\n",
        "n_components = 5\n",
        "\n",
        "# number of clusters we want\n",
        "n_clusters = 5\n",
        "\n",
        "# covert words into TFIDF metrics\n",
        "tfidf = TfidfVectorizer(stop_words = 'english')\n",
        "X_text = tfidf.fit_transform(df['lyrics'])\n",
        "\n",
        "# reduce dimensions\n",
        "svd = TruncatedSVD(n_components=n_components, random_state = 0)\n",
        "X_2d = svd.fit_transform(X_text)\n",
        "\n",
        "# fit k-mean clustering\n",
        "kmeans = KMeans(n_clusters=n_clusters, random_state = 0)\n",
        "\n",
        "# predict our clusters for each song\n",
        "X_clustered = kmeans.fit_predict(X_2d)\n",
        "\n",
        "# display by groups\n",
        "df_plot = pd.DataFrame(list(X_2d), list(X_clustered))\n",
        "df_plot = df_plot.reset_index()\n",
        "df_plot.rename(columns = {'index': 'Cluster'}, inplace = True)\n",
        "df_plot['Cluster'] = df_plot['Cluster'].astype(int)\n",
        "\n",
        "print(df_plot.head())\n",
        "\n",
        "print(df_plot.groupby('Cluster').agg({'Cluster': 'count'}))"
      ],
      "execution_count": null,
      "outputs": [
        {
          "output_type": "stream",
          "text": [
            "   Cluster         0         1         2         3         4\n",
            "0        2  0.065259 -0.049408  0.149334  0.944664  0.146207\n",
            "1        0  0.050759 -0.018277  0.005050  0.001838 -0.008851\n",
            "2        0  0.192368 -0.066615 -0.083847  0.003385 -0.078931\n",
            "3        0  0.101318 -0.047657  0.003196  0.072745 -0.079844\n",
            "4        0 -0.000027  0.000358 -0.006471  0.000723 -0.009970\n",
            "         Cluster\n",
            "Cluster         \n",
            "0            107\n",
            "1              6\n",
            "2              2\n",
            "3              2\n",
            "4              8\n"
          ],
          "name": "stdout"
        }
      ]
    }
  ]
}