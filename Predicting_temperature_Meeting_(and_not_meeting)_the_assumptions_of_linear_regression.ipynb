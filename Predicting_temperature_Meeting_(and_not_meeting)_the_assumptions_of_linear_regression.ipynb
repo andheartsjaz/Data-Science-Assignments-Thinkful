{
  "nbformat": 4,
  "nbformat_minor": 0,
  "metadata": {
    "colab": {
      "name": "Predicting temperature Meeting (and not meeting) the assumptions of linear regression.ipynb",
      "provenance": [],
      "collapsed_sections": [],
      "authorship_tag": "ABX9TyNHVNaL+Oe6+LkchNwxfAF/"
    },
    "kernelspec": {
      "name": "python3",
      "display_name": "Python 3"
    }
  },
  "cells": [
    {
      "cell_type": "code",
      "metadata": {
        "id": "a0Iu22loOO3Z",
        "colab_type": "code",
        "colab": {}
      },
      "source": [
        "import numpy as np\n",
        "import pandas as pd\n",
        "import matplotlib.pyplot as plt\n",
        "from sqlalchemy import create_engine\n",
        "import statsmodels.api as sm\n",
        "from sklearn import linear_model\n",
        "import warnings\n",
        "warnings.filterwarnings('ignore')\n",
        "\n",
        "# load the data from the Thinkful PostgreSql database using our credentials.\n",
        "\n",
        "postgres_user = 'dsbc_student'\n",
        "postgres_pw = '7*.8G9QH21'\n",
        "postgres_host = '142.93.121.174'\n",
        "postgres_port = '5432'\n",
        "postgres_db = 'weatherinszeged'\n",
        "\n",
        "\n",
        "engine = create_engine('postgresql://{}:{}@{}:{}/{}'.format(\n",
        "    postgres_user, postgres_pw, postgres_host, postgres_port, postgres_db))\n",
        "temperature_df = pd.read_sql_query('select * from weatherinszeged',con=engine)\n",
        "\n",
        "# no need for an open connection, as we're only doing a single query\n",
        "engine.dispose()"
      ],
      "execution_count": 0,
      "outputs": []
    },
    {
      "cell_type": "markdown",
      "metadata": {
        "id": "enO6f7gMObeR",
        "colab_type": "text"
      },
      "source": [
        "Tasks:\n",
        "\n",
        "Build a regression model where the target variable is temperature. \n",
        "\n",
        "As explanatory variables, use humidity, windspeed, windbearing, and pressure.\n",
        "\n",
        " Estimate the model using OLS.\n",
        "\n",
        "Now, check if your model meets the Gauss-Markov Conditions above.\n",
        "\n",
        "If some of the assumptions are not met, discuss the implications of the violations for the correctness of your model."
      ]
    },
    {
      "cell_type": "code",
      "metadata": {
        "id": "TUau_uaPx8nr",
        "colab_type": "code",
        "outputId": "766dbbbd-0c93-4ad1-a150-e3204ec7692a",
        "colab": {
          "base_uri": "https://localhost:8080/",
          "height": 318
        }
      },
      "source": [
        "temperature_df.head()\n",
        "\n",
        "temperature_df.info()"
      ],
      "execution_count": 0,
      "outputs": [
        {
          "output_type": "stream",
          "text": [
            "<class 'pandas.core.frame.DataFrame'>\n",
            "RangeIndex: 96453 entries, 0 to 96452\n",
            "Data columns (total 12 columns):\n",
            "date                   96453 non-null datetime64[ns, UTC]\n",
            "summary                96453 non-null object\n",
            "preciptype             96453 non-null object\n",
            "temperature            96453 non-null float64\n",
            "apparenttemperature    96453 non-null float64\n",
            "humidity               96453 non-null float64\n",
            "windspeed              96453 non-null float64\n",
            "windbearing            96453 non-null float64\n",
            "visibility             96453 non-null float64\n",
            "loudcover              96453 non-null float64\n",
            "pressure               96453 non-null float64\n",
            "dailysummary           96453 non-null object\n",
            "dtypes: datetime64[ns, UTC](1), float64(8), object(3)\n",
            "memory usage: 8.8+ MB\n"
          ],
          "name": "stdout"
        }
      ]
    },
    {
      "cell_type": "markdown",
      "metadata": {
        "id": "Okz8MrtvvLJ2",
        "colab_type": "text"
      },
      "source": [
        "- Build a regression model where the target variable is temperature.\n",
        "\n",
        "- As explanatory variables, use humidity, windspeed, windbearing, and pressure."
      ]
    },
    {
      "cell_type": "code",
      "metadata": {
        "id": "4OZzZYX-yjX-",
        "colab_type": "code",
        "outputId": "280b0f64-0398-47cb-d08d-f297c0d85079",
        "colab": {
          "base_uri": "https://localhost:8080/",
          "height": 123
        }
      },
      "source": [
        "# define features with variable X as dataframe\n",
        "X = temperature_df[['humidity','windspeed', 'windbearing', 'pressure']]\n",
        "\n",
        "# define target variable y as series\n",
        "y = temperature_df['temperature']\n",
        "\n",
        "# this is our equation: Y = 1 + 2*X + 3*X^2\n",
        "# temperature_df['y_eq'] = 1 +2*X+ 3*(X**2)\n",
        "\n",
        " # instantiate Linear Regression Model\n",
        "lr = linear_model.LinearRegression()\n",
        "\n",
        "# fit model, find coefficients \n",
        "lr.fit(X, y)\n",
        "\n",
        "predictions = lr.predict(X)\n",
        "errors = np.array(y) - predictions\n",
        "\n",
        "# print coefficients\n",
        "print('\\nCoefficients: \\n', lr.coef_)\n",
        "print('\\nIntercept: \\n', lr.intercept_)\n",
        "\n"
      ],
      "execution_count": 114,
      "outputs": [
        {
          "output_type": "stream",
          "text": [
            "\n",
            "Coefficients: \n",
            " [-3.24962454e+01 -2.01413742e-01  4.04836936e-03 -6.91759209e-04]\n",
            "\n",
            "Intercept: \n",
            " 37.92643818528538\n"
          ],
          "name": "stdout"
        }
      ]
    },
    {
      "cell_type": "markdown",
      "metadata": {
        "id": "ScmvLCjLvGaE",
        "colab_type": "text"
      },
      "source": [
        "- Estimate the model using OLS"
      ]
    },
    {
      "cell_type": "markdown",
      "metadata": {
        "id": "ZVCx1YPGve5O",
        "colab_type": "text"
      },
      "source": [
        "- Now, check if your model meets the Gauss-Markov Conditions above.\n",
        "\n",
        "    - If some of the assumptions are not met, discuss the implications of the violations for the correctness of your model."
      ]
    },
    {
      "cell_type": "markdown",
      "metadata": {
        "id": "qDV1_Bc4v7eN",
        "colab_type": "text"
      },
      "source": [
        "Gauss Markov assumptions (also called conditions):\n",
        "\n",
        "- linearity of models in their coefficients\n",
        "- the error term should be zero on average\n",
        "- homoscedasticity\n",
        "- low multicollinearity\n",
        "- error terms should be uncorrelated with one another\n",
        "- features shouldn't be correlated with the errors\n",
        "normality of the errors"
      ]
    },
    {
      "cell_type": "markdown",
      "metadata": {
        "id": "stnnzDHxwErF",
        "colab_type": "text"
      },
      "source": [
        "So..."
      ]
    },
    {
      "cell_type": "markdown",
      "metadata": {
        "id": "HYpLrIrlwF4J",
        "colab_type": "text"
      },
      "source": [
        "The Gauss Markov theorem tells us that if a certain set of assumptions are met, **the ordinary least squares estimate for regression coefficients gives you the best linear unbiased estimate (BLUE) possible.** [Source](https://www.statisticshowto.datasciencecentral.com/gauss-markov-theorem-assumptions/)"
      ]
    },
    {
      "cell_type": "markdown",
      "metadata": {
        "id": "yKiEc0fBwcg3",
        "colab_type": "text"
      },
      "source": [
        "See below, our errors are a very small number; making them near zero.  Thus, satisfying Exogeneity"
      ]
    },
    {
      "cell_type": "code",
      "metadata": {
        "id": "fUUBhG6Iur-9",
        "colab_type": "code",
        "outputId": "c4f56d72-fb19-46cc-c0a2-e167493ba2b8",
        "colab": {
          "base_uri": "https://localhost:8080/",
          "height": 34
        }
      },
      "source": [
        "print(\" The Mean of the errors in the medical costs model is: {}\".format(np.mean(errors)))"
      ],
      "execution_count": 0,
      "outputs": [
        {
          "output_type": "stream",
          "text": [
            " The Mean of the errors in the medical costs model is: -4.714704061941714e-16\n"
          ],
          "name": "stdout"
        }
      ]
    },
    {
      "cell_type": "markdown",
      "metadata": {
        "id": "w0hbhfmt0UO-",
        "colab_type": "text"
      },
      "source": [
        "Plotting our predictions versus our errors, we see that our data are very heterscedastic (there's a pattern).  So our assumption of homoscedasticity is not met. "
      ]
    },
    {
      "cell_type": "code",
      "metadata": {
        "id": "t3hwdwGj0VBK",
        "colab_type": "code",
        "outputId": "8af00459-1cbe-4d3d-c8e4-47afca739af8",
        "colab": {
          "base_uri": "https://localhost:8080/",
          "height": 294
        }
      },
      "source": [
        "\n",
        "plt.scatter(predictions, errors)\n",
        "plt.xlabel('Predicted')\n",
        "plt.ylabel('Residual')\n",
        "plt.axhline(y=0)\n",
        "plt.title('Residual vs. Predicted')\n",
        "plt.show()"
      ],
      "execution_count": 115,
      "outputs": [
        {
          "output_type": "display_data",
          "data": {
            "image/png": "[encoded data removed]",
            "text/plain": [
              "<Figure size 432x288 with 1 Axes>"
            ]
          },
          "metadata": {
            "tags": []
          }
        }
      ]
    },
    {
      "cell_type": "markdown",
      "metadata": {
        "id": "TGrLDj8h16Oy",
        "colab_type": "text"
      },
      "source": [
        "To confirm our observations, let's perform two statistical tests to determine if we reject our null hypothesis which is that the errors are homoscedastic. We will use the Bartlett and Levene tests from scipy."
      ]
    },
    {
      "cell_type": "code",
      "metadata": {
        "id": "gfpa4yxT0hpU",
        "colab_type": "code",
        "outputId": "974d8ac5-bb91-49c6-b6b2-1916f2c66f4e",
        "colab": {
          "base_uri": "https://localhost:8080/",
          "height": 70
        }
      },
      "source": [
        "from scipy.stats import bartlett\n",
        "from scipy.stats import levene\n",
        "\n",
        "bart_stats = bartlett(predictions, errors)\n",
        "lev_stats = levene(predictions, errors)\n",
        "\n",
        "print(\"Bartlett test statistic value is {0:3g} and p value is {1:.3g}\".format(bart_stats[0], bart_stats[1]))\n",
        "print(\"Levene test statistic value is {0:3g} and p value is {1:.3g}\".format(lev_stats[0], lev_stats[1]))\n",
        "\n",
        "z = 0.05\n",
        "x = bart_stats[1]\n",
        "y = lev_stats[1]\n",
        "one = z < x\n",
        "two = z < y\n",
        "if one | two == False: print(\"reject the null!\")\n",
        "if one | two == True: print(\"Don't reject the null!\"); \n",
        "# thumbs up for statement code tho ;)"
      ],
      "execution_count": 116,
      "outputs": [
        {
          "output_type": "stream",
          "text": [
            "Bartlett test statistic value is 2464.84 and p value is 0\n",
            "Levene test statistic value is 2321.24 and p value is 0\n",
            "reject the null!\n"
          ],
          "name": "stdout"
        }
      ]
    },
    {
      "cell_type": "markdown",
      "metadata": {
        "id": "qL4Jn4jb9hm2",
        "colab_type": "text"
      },
      "source": [
        "Since both p-values from the statistical tests are below our threshold, we cannot meet the assumption of homoscedasticity, and thus, our parameter's accuracies are not reliable!"
      ]
    },
    {
      "cell_type": "markdown",
      "metadata": {
        "id": "3B5CSxmT935z",
        "colab_type": "text"
      },
      "source": [
        "Next, let's check the assumption of low multicollinearity via a correlation matrix."
      ]
    },
    {
      "cell_type": "code",
      "metadata": {
        "id": "0FgSEzHO9-m_",
        "colab_type": "code",
        "outputId": "2b6282b9-6d6c-424c-848c-a5f9ed13abae",
        "colab": {
          "base_uri": "https://localhost:8080/",
          "height": 167
        }
      },
      "source": [
        "X.corr()"
      ],
      "execution_count": 117,
      "outputs": [
        {
          "output_type": "execute_result",
          "data": {
            "text/html": [
              "<div>\n",
              "<style scoped>\n",
              "    .dataframe tbody tr th:only-of-type {\n",
              "        vertical-align: middle;\n",
              "    }\n",
              "\n",
              "    .dataframe tbody tr th {\n",
              "        vertical-align: top;\n",
              "    }\n",
              "\n",
              "    .dataframe thead th {\n",
              "        text-align: right;\n",
              "    }\n",
              "</style>\n",
              "<table border=\"1\" class=\"dataframe\">\n",
              "  <thead>\n",
              "    <tr style=\"text-align: right;\">\n",
              "      <th></th>\n",
              "      <th>humidity</th>\n",
              "      <th>windspeed</th>\n",
              "      <th>windbearing</th>\n",
              "      <th>pressure</th>\n",
              "    </tr>\n",
              "  </thead>\n",
              "  <tbody>\n",
              "    <tr>\n",
              "      <th>humidity</th>\n",
              "      <td>1.000000</td>\n",
              "      <td>-0.224951</td>\n",
              "      <td>0.000735</td>\n",
              "      <td>0.005454</td>\n",
              "    </tr>\n",
              "    <tr>\n",
              "      <th>windspeed</th>\n",
              "      <td>-0.224951</td>\n",
              "      <td>1.000000</td>\n",
              "      <td>0.103822</td>\n",
              "      <td>-0.049263</td>\n",
              "    </tr>\n",
              "    <tr>\n",
              "      <th>windbearing</th>\n",
              "      <td>0.000735</td>\n",
              "      <td>0.103822</td>\n",
              "      <td>1.000000</td>\n",
              "      <td>-0.011651</td>\n",
              "    </tr>\n",
              "    <tr>\n",
              "      <th>pressure</th>\n",
              "      <td>0.005454</td>\n",
              "      <td>-0.049263</td>\n",
              "      <td>-0.011651</td>\n",
              "      <td>1.000000</td>\n",
              "    </tr>\n",
              "  </tbody>\n",
              "</table>\n",
              "</div>"
            ],
            "text/plain": [
              "             humidity  windspeed  windbearing  pressure\n",
              "humidity     1.000000  -0.224951     0.000735  0.005454\n",
              "windspeed   -0.224951   1.000000     0.103822 -0.049263\n",
              "windbearing  0.000735   0.103822     1.000000 -0.011651\n",
              "pressure     0.005454  -0.049263    -0.011651  1.000000"
            ]
          },
          "metadata": {
            "tags": []
          },
          "execution_count": 117
        }
      ]
    },
    {
      "cell_type": "markdown",
      "metadata": {
        "id": "SRRqELHjAwln",
        "colab_type": "text"
      },
      "source": [
        "Of course, since we have few features in this model, we can also visualize this in a heatmap!"
      ]
    },
    {
      "cell_type": "code",
      "metadata": {
        "id": "BkmyI3qFAnvw",
        "colab_type": "code",
        "outputId": "22d05aa9-0b93-44f8-94a8-73d1ee207231",
        "colab": {
          "base_uri": "https://localhost:8080/",
          "height": 483
        }
      },
      "source": [
        "import seaborn as sns\n",
        "plt.figure(figsize=(10,8))\n",
        "sns.heatmap(X.corr(), annot=True, \n",
        "            vmin=-1, \n",
        "            vmax=1, \n",
        "            cmap='prism', linewidths=0.5, cbar=False); #just wanna experiment with cmap!"
      ],
      "execution_count": 118,
      "outputs": [
        {
          "output_type": "display_data",
          "data": {
            "image/png": "[encoded data removed]",
            "text/plain": [
              "<Figure size 720x576 with 1 Axes>"
            ]
          },
          "metadata": {
            "tags": []
          }
        }
      ]
    },
    {
      "cell_type": "markdown",
      "metadata": {
        "id": "xRwwxJRV-qAa",
        "colab_type": "text"
      },
      "source": [
        "Since the highest linear relationship exits between hummidity and windspeed, at -0.22, we confirm the assumption of low multicollinearity is met."
      ]
    },
    {
      "cell_type": "markdown",
      "metadata": {
        "id": "O1Q6qGrd-4Tb",
        "colab_type": "text"
      },
      "source": [
        "Next, let's confirm that the errors are uncorrelated with one another--"
      ]
    },
    {
      "cell_type": "code",
      "metadata": {
        "id": "YtZoxrb49_oR",
        "colab_type": "code",
        "outputId": "e73ca58a-1b9a-40eb-d0e0-baceaa722387",
        "colab": {
          "base_uri": "https://localhost:8080/",
          "height": 528
        }
      },
      "source": [
        "plt.figure(figsize=(10,8))\n",
        "plt.plot(errors, color='cyan') # I just like the color cyan...\n",
        "plt.title('Checking the Gauss Markov Assumption:\\nCorrelation of Error Terms\\naka \"Randomness of Errors\"')\n",
        "plt.show()\n"
      ],
      "execution_count": 119,
      "outputs": [
        {
          "output_type": "display_data",
          "data": {
            "image/png": "[encoded data removed]",
            "text/plain": [
              "<Figure size 720x576 with 1 Axes>"
            ]
          },
          "metadata": {
            "tags": []
          }
        }
      ]
    },
    {
      "cell_type": "markdown",
      "metadata": {
        "id": "WGKSSyCv_-kk",
        "colab_type": "text"
      },
      "source": [
        "Cool, we can confirm that the errors are random!  We can also check this using the statsmodel function: _autocorrelation function_"
      ]
    },
    {
      "cell_type": "code",
      "metadata": {
        "id": "mk53buA4_Mkz",
        "colab_type": "code",
        "outputId": "f6e396bf-6300-46de-d2e8-cfc6bef5398f",
        "colab": {
          "base_uri": "https://localhost:8080/",
          "height": 498
        }
      },
      "source": [
        "from statsmodels.tsa.stattools import acf\n",
        "\n",
        "acf_data = acf(errors)\n",
        "\n",
        "plt.figure(figsize=(10,8))\n",
        "plt.plot(acf_data[1:])\n",
        "plt.title('Autocorrelation of Errors')\n",
        "plt.show()"
      ],
      "execution_count": 120,
      "outputs": [
        {
          "output_type": "display_data",
          "data": {
            "image/png": "[encoded data removed]",
            "text/plain": [
              "<Figure size 720x576 with 1 Axes>"
            ]
          },
          "metadata": {
            "tags": []
          }
        }
      ]
    },
    {
      "cell_type": "markdown",
      "metadata": {
        "id": "kusue0BOC1-p",
        "colab_type": "text"
      },
      "source": [
        "Whoa! We see that our errors assume some type of pattern; since we are attempting to confirm that the errors aren't predicting one another, this plot indeed shows that they are related in some way.  In fact, we are seeing a positive serial correlation.  Remember, one of our features, _weather_ is time-series correlated! When we rejected our null hypothesis for this assumption (that the error terms are uncorrelated), we then move to the alternate hypothesis which states that there's a positive serial correlation between the errors.  How cool!\n",
        "\n",
        "Why is this bad?  _Analyst Forum_ says:\n",
        "\n",
        "- Linear regression is an incorrect estimate of the regression coefficient standard errors.\n",
        "- When one of the independent variables is a lagged value of the dependent variable, then serial correlation causes all the parameter estimates to be inconsistent and invalid. Otherwise, serial correlation does not affect the consistency of the estimated regression coefficients.\n",
        "- Serial correlation leads to wrong inferences.\n",
        "\n",
        "In case of positive serial correlation:\n",
        "- Standard errors are underestimated\n",
        "- T-statistics are inflated\n",
        "- Type-I error increases\n",
        "\n",
        "[Source](https://www.analystforum.com/article/cfa/serial-correlation)"
      ]
    },
    {
      "cell_type": "markdown",
      "metadata": {
        "id": "YhGELgTSG5-f",
        "colab_type": "text"
      },
      "source": [
        "Final assumption check: Features shouldn't be correlated with errors"
      ]
    },
    {
      "cell_type": "code",
      "metadata": {
        "id": "UCb6JUnmAPXb",
        "colab_type": "code",
        "outputId": "70f51742-9e3b-4cf8-946b-178570cf518f",
        "colab": {
          "base_uri": "https://localhost:8080/",
          "height": 197
        }
      },
      "source": [
        "df = pd.concat([X, pd.DataFrame(errors, columns=[\"error\"])], axis=1)\n",
        "df.corr().iloc[:,-1:]"
      ],
      "execution_count": 121,
      "outputs": [
        {
          "output_type": "execute_result",
          "data": {
            "text/html": [
              "<div>\n",
              "<style scoped>\n",
              "    .dataframe tbody tr th:only-of-type {\n",
              "        vertical-align: middle;\n",
              "    }\n",
              "\n",
              "    .dataframe tbody tr th {\n",
              "        vertical-align: top;\n",
              "    }\n",
              "\n",
              "    .dataframe thead th {\n",
              "        text-align: right;\n",
              "    }\n",
              "</style>\n",
              "<table border=\"1\" class=\"dataframe\">\n",
              "  <thead>\n",
              "    <tr style=\"text-align: right;\">\n",
              "      <th></th>\n",
              "      <th>error</th>\n",
              "    </tr>\n",
              "  </thead>\n",
              "  <tbody>\n",
              "    <tr>\n",
              "      <th>humidity</th>\n",
              "      <td>-1.935763e-16</td>\n",
              "    </tr>\n",
              "    <tr>\n",
              "      <th>windspeed</th>\n",
              "      <td>-3.912914e-17</td>\n",
              "    </tr>\n",
              "    <tr>\n",
              "      <th>windbearing</th>\n",
              "      <td>-2.293671e-16</td>\n",
              "    </tr>\n",
              "    <tr>\n",
              "      <th>pressure</th>\n",
              "      <td>-7.998021e-16</td>\n",
              "    </tr>\n",
              "    <tr>\n",
              "      <th>error</th>\n",
              "      <td>1.000000e+00</td>\n",
              "    </tr>\n",
              "  </tbody>\n",
              "</table>\n",
              "</div>"
            ],
            "text/plain": [
              "                    error\n",
              "humidity    -1.935763e-16\n",
              "windspeed   -3.912914e-17\n",
              "windbearing -2.293671e-16\n",
              "pressure    -7.998021e-16\n",
              "error        1.000000e+00"
            ]
          },
          "metadata": {
            "tags": []
          },
          "execution_count": 121
        }
      ]
    },
    {
      "cell_type": "markdown",
      "metadata": {
        "id": "rS9gN8ehHC-S",
        "colab_type": "text"
      },
      "source": [
        "Again, our correlation matrix tells us that the correlation between features and errors are very low. "
      ]
    },
    {
      "cell_type": "markdown",
      "metadata": {
        "id": "Gn7NgXHwHU74",
        "colab_type": "text"
      },
      "source": [
        "#Normality of the error terms (for the guild)"
      ]
    },
    {
      "cell_type": "markdown",
      "metadata": {
        "id": "EROyVyx1Heg6",
        "colab_type": "text"
      },
      "source": [
        "_normality of errors is not required to apply OLS to a linear regression model, but in order to measure the statistical significance of our estimated coefficients, error terms must be normally distributed_"
      ]
    },
    {
      "cell_type": "code",
      "metadata": {
        "id": "rBzyHd3jGQiS",
        "colab_type": "code",
        "outputId": "a286d7fc-d5f1-4699-8192-96119ce4d26a",
        "colab": {
          "base_uri": "https://localhost:8080/",
          "height": 388
        }
      },
      "source": [
        "# informal way\n",
        "\n",
        "rand_nums = np.random.normal(np.mean(errors), np.std(errors), len(errors))\n",
        "\n",
        "plt.figure(figsize=(12,5))\n",
        "\n",
        "plt.subplot(1,2,1)\n",
        "plt.scatter(np.sort(rand_nums), np.sort(errors)) # we sort the arrays\n",
        "plt.xlabel(\"the normally distributed random variable\")\n",
        "plt.ylabel(\"errors of the model\")\n",
        "plt.title(\"QQ plot\")\n",
        "\n",
        "plt.subplot(1,2,2)\n",
        "plt.hist(errors)\n",
        "plt.xlabel(\"errors\")\n",
        "plt.title(\"Histogram of the errors\")\n",
        "\n",
        "plt.tight_layout()\n",
        "plt.show()\n"
      ],
      "execution_count": 122,
      "outputs": [
        {
          "output_type": "display_data",
          "data": {
            "image/png": "[encoded data removed]",
            "text/plain": [
              "<Figure size 864x360 with 2 Axes>"
            ]
          },
          "metadata": {
            "tags": []
          }
        }
      ]
    },
    {
      "cell_type": "markdown",
      "metadata": {
        "id": "hFCMEPN6Huhm",
        "colab_type": "text"
      },
      "source": [
        "_the QQ plot and the histogram imply that the distribution is not very far away from normal._\n",
        "\n",
        "the statistical tests used to find out whether or not error terms are normal are the Jarque Bera and Normaltest from scipy"
      ]
    },
    {
      "cell_type": "code",
      "metadata": {
        "id": "ydE5akm6HS8h",
        "colab_type": "code",
        "outputId": "30e3805e-1a79-41cd-91a0-1fa045e4ad1c",
        "colab": {
          "base_uri": "https://localhost:8080/",
          "height": 70
        }
      },
      "source": [
        "from scipy.stats import jarque_bera\n",
        "from scipy.stats import normaltest\n",
        "\n",
        "jb_stats = jarque_bera(errors)\n",
        "norm_stats = normaltest(errors)\n",
        "\n",
        "print(\"Jarque-Bera test statistics is {0} and p value is {1}\".format(jb_stats[0], jb_stats[1]))\n",
        "print(\"Normality test statistics is {0} and p value is {1}\".format(norm_stats[0], norm_stats[1]))\n",
        "\n",
        "# let's use the leet code from before--\n",
        "z = 0.05\n",
        "x = jb_stats[1]\n",
        "y = norm_stats[1]\n",
        "one = z < x\n",
        "two = z < y\n",
        "if one | two == False: print(\"The errors are NOT normally distributed!\")\n",
        "if one | two == True: print(\"The errors ARE normally distributed!\"); \n",
        "# thumbs up for statement code tho ;)"
      ],
      "execution_count": 123,
      "outputs": [
        {
          "output_type": "stream",
          "text": [
            "Jarque-Bera test statistics is 3793.296735252357 and p value is 0.0\n",
            "Normality test statistics is 3375.4323076995743 and p value is 0.0\n",
            "The errors are NOT normally distributed!\n"
          ],
          "name": "stdout"
        }
      ]
    },
    {
      "cell_type": "code",
      "metadata": {
        "id": "pp6Ks68OIHSG",
        "colab_type": "code",
        "colab": {}
      },
      "source": [
        ""
      ],
      "execution_count": 0,
      "outputs": []
    }
  ]
}