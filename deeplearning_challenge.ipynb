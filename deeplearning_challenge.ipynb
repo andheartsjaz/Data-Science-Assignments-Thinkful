{
  "nbformat": 4,
  "nbformat_minor": 0,
  "metadata": {
    "colab": {
      "name": "deeplearning_challenge.ipynb",
      "provenance": [],
      "authorship_tag": "ABX9TyOK3ykN2nHsDKcq497JSP62"
    },
    "kernelspec": {
      "name": "python3",
      "display_name": "Python 3"
    }
  },
  "cells": [
    {
      "cell_type": "markdown",
      "metadata": {
        "id": "uu7SkMJqGK19",
        "colab_type": "text"
      },
      "source": [
        "\n",
        "    Preprocess your data so that you can feed it into ANN models.\n",
        "\n",
        "    Split your data into training and test sets.\n",
        "\n",
        "    Try different ANN models and train them on your training set. You can play with: 3.1. Number of layers.\n",
        "\n",
        "    3.2. Activation functions of the layers.\n",
        "\n",
        "    3.3. Number of neurons in the layers.\n",
        "\n",
        "    3.4. Different batch sizes during training.\n",
        "\n",
        "    Compare your models' training scores and interpret your results.\n",
        "    \n",
        "    Evaluate your models' performances on your test set. Compare the results of your models.\n"
      ]
    },
    {
      "cell_type": "code",
      "metadata": {
        "id": "hcQhrqBGGJnE",
        "colab_type": "code",
        "colab": {
          "base_uri": "https://localhost:8080/",
          "height": 55
        },
        "outputId": "833c13fb-6bf6-49db-c2b6-b854513b3a0a"
      },
      "source": [
        "import warnings\n",
        "warnings.filterwarnings(\"ignore\")\n",
        "\n",
        "from tensorflow.keras.datasets import mnist\n",
        "from tensorflow.keras.utils import to_categorical\n",
        "from tensorflow.keras.models import Sequential \n",
        "from tensorflow.keras.layers import Dense\n",
        "\n",
        "\n",
        "(X_train, y_train), (X_test, y_test) = mnist.load_data()\n",
        "\n",
        "input_dim = 784  # 28*28\n",
        "output_dim = nb_classes = 10\n",
        "batch_size = 128\n",
        "nb_epoch = 20\n",
        "\n",
        "X_train = X_train.reshape(60000, input_dim)\n",
        "X_test = X_test.reshape(10000, input_dim)\n",
        "X_train = X_train.astype('float32')\n",
        "X_test = X_test.astype('float32')\n",
        "X_train /= 255\n",
        "X_test /= 255\n",
        "\n",
        "\n"
      ],
      "execution_count": null,
      "outputs": [
        {
          "output_type": "stream",
          "text": [
            "Downloading data from https://storage.googleapis.com/tensorflow/tf-keras-datasets/mnist.npz\n",
            "11493376/11490434 [==============================] - 0s 0us/step\n"
          ],
          "name": "stdout"
        }
      ]
    },
    {
      "cell_type": "code",
      "metadata": {
        "id": "RqCDUoKMHNT-",
        "colab_type": "code",
        "colab": {}
      },
      "source": [
        "from tensorflow.keras.utils import to_categorical\n",
        "\n",
        "Y_train = to_categorical(y_train, nb_classes)\n",
        "Y_test = to_categorical(y_test, nb_classes)"
      ],
      "execution_count": null,
      "outputs": []
    },
    {
      "cell_type": "code",
      "metadata": {
        "id": "qm1uQ0BbIe5H",
        "colab_type": "code",
        "colab": {
          "base_uri": "https://localhost:8080/",
          "height": 1000
        },
        "outputId": "5ccf2c5b-cc5f-4b1b-c472-736286668371"
      },
      "source": [
        "from tensorflow.keras.models import Sequential \n",
        "from tensorflow.keras.layers import Dense\n",
        "\n",
        "model = Sequential()\n",
        "# our first dense layer\n",
        "model.add(Dense(1028, input_shape=(784,), activation=\"relu\"))\n",
        "# our second dense layer\n",
        "model.add(Dense(1028, activation=\"relu\"))\n",
        "# last layer is the output layer.\n",
        "model.add(Dense(10, activation=\"softmax\"))\n",
        "\n",
        "model.summary()\n",
        "\n",
        "model.compile(optimizer='sgd', loss='categorical_crossentropy',\n",
        "              metrics=['accuracy'])\n",
        "\n",
        "# setting verbose=1 prints out some results after each epoch\n",
        "model.fit(X_train, Y_train, batch_size=batch_size, epochs=20, verbose=1)"
      ],
      "execution_count": null,
      "outputs": [
        {
          "output_type": "stream",
          "text": [
            "Model: \"sequential\"\n",
            "_________________________________________________________________\n",
            "Layer (type)                 Output Shape              Param #   \n",
            "=================================================================\n",
            "dense (Dense)                (None, 1028)              806980    \n",
            "_________________________________________________________________\n",
            "dense_1 (Dense)              (None, 1028)              1057812   \n",
            "_________________________________________________________________\n",
            "dense_2 (Dense)              (None, 10)                10290     \n",
            "=================================================================\n",
            "Total params: 1,875,082\n",
            "Trainable params: 1,875,082\n",
            "Non-trainable params: 0\n",
            "_________________________________________________________________\n",
            "Epoch 1/20\n",
            "469/469 [==============================] - 16s 34ms/step - loss: 1.0415 - accuracy: 0.7786\n",
            "Epoch 2/20\n",
            "469/469 [==============================] - 16s 34ms/step - loss: 0.4309 - accuracy: 0.8885\n",
            "Epoch 3/20\n",
            "469/469 [==============================] - 16s 33ms/step - loss: 0.3482 - accuracy: 0.9042\n",
            "Epoch 4/20\n",
            "469/469 [==============================] - 16s 33ms/step - loss: 0.3095 - accuracy: 0.9133\n",
            "Epoch 5/20\n",
            "469/469 [==============================] - 16s 33ms/step - loss: 0.2843 - accuracy: 0.9200\n",
            "Epoch 6/20\n",
            "469/469 [==============================] - 16s 33ms/step - loss: 0.2650 - accuracy: 0.9260\n",
            "Epoch 7/20\n",
            "469/469 [==============================] - 16s 33ms/step - loss: 0.2492 - accuracy: 0.9296\n",
            "Epoch 8/20\n",
            "469/469 [==============================] - 16s 33ms/step - loss: 0.2356 - accuracy: 0.9337\n",
            "Epoch 9/20\n",
            "469/469 [==============================] - 16s 34ms/step - loss: 0.2236 - accuracy: 0.9374\n",
            "Epoch 10/20\n",
            "469/469 [==============================] - 16s 34ms/step - loss: 0.2126 - accuracy: 0.9404\n",
            "Epoch 11/20\n",
            "469/469 [==============================] - 16s 34ms/step - loss: 0.2030 - accuracy: 0.9433\n",
            "Epoch 12/20\n",
            "469/469 [==============================] - 16s 34ms/step - loss: 0.1941 - accuracy: 0.9459\n",
            "Epoch 13/20\n",
            "469/469 [==============================] - 16s 35ms/step - loss: 0.1859 - accuracy: 0.9482\n",
            "Epoch 14/20\n",
            "469/469 [==============================] - 16s 34ms/step - loss: 0.1782 - accuracy: 0.9503\n",
            "Epoch 15/20\n",
            "469/469 [==============================] - 16s 33ms/step - loss: 0.1713 - accuracy: 0.9522\n",
            "Epoch 16/20\n",
            "469/469 [==============================] - 16s 33ms/step - loss: 0.1648 - accuracy: 0.9542\n",
            "Epoch 17/20\n",
            "469/469 [==============================] - 16s 34ms/step - loss: 0.1586 - accuracy: 0.9555\n",
            "Epoch 18/20\n",
            "469/469 [==============================] - 16s 33ms/step - loss: 0.1531 - accuracy: 0.9575\n",
            "Epoch 19/20\n",
            "469/469 [==============================] - 16s 34ms/step - loss: 0.1477 - accuracy: 0.9591\n",
            "Epoch 20/20\n",
            "469/469 [==============================] - 16s 33ms/step - loss: 0.1428 - accuracy: 0.9605\n"
          ],
          "name": "stdout"
        },
        {
          "output_type": "execute_result",
          "data": {
            "text/plain": [
              "<tensorflow.python.keras.callbacks.History at 0x7fafbc017d30>"
            ]
          },
          "metadata": {
            "tags": []
          },
          "execution_count": 4
        }
      ]
    },
    {
      "cell_type": "code",
      "metadata": {
        "id": "6JuBKjBoI4s_",
        "colab_type": "code",
        "colab": {
          "base_uri": "https://localhost:8080/",
          "height": 543
        },
        "outputId": "d9f9fa5f-43de-4f49-d479-c2a2d39d4760"
      },
      "source": [
        "# batch size 20\n",
        "model.fit(X_train, Y_train, batch_size=64, epochs=20, verbose=2)"
      ],
      "execution_count": null,
      "outputs": [
        {
          "output_type": "stream",
          "text": [
            "Epoch 1/20\n",
            "938/938 [==============================] - 21s 22ms/step - loss: 0.1379 - accuracy: 0.9617\n",
            "Epoch 2/20\n",
            "938/938 [==============================] - 21s 22ms/step - loss: 0.1294 - accuracy: 0.9645\n",
            "Epoch 3/20\n",
            "938/938 [==============================] - 21s 22ms/step - loss: 0.1220 - accuracy: 0.9657\n",
            "Epoch 4/20\n",
            "938/938 [==============================] - 20s 22ms/step - loss: 0.1149 - accuracy: 0.9680\n",
            "Epoch 5/20\n",
            "938/938 [==============================] - 21s 22ms/step - loss: 0.1084 - accuracy: 0.9703\n",
            "Epoch 6/20\n",
            "938/938 [==============================] - 20s 22ms/step - loss: 0.1025 - accuracy: 0.9715\n",
            "Epoch 7/20\n",
            "938/938 [==============================] - 20s 22ms/step - loss: 0.0972 - accuracy: 0.9732\n",
            "Epoch 8/20\n",
            "938/938 [==============================] - 20s 22ms/step - loss: 0.0921 - accuracy: 0.9751\n",
            "Epoch 9/20\n",
            "938/938 [==============================] - 21s 22ms/step - loss: 0.0879 - accuracy: 0.9764\n",
            "Epoch 10/20\n",
            "938/938 [==============================] - 21s 23ms/step - loss: 0.0836 - accuracy: 0.9772\n",
            "Epoch 11/20\n",
            "938/938 [==============================] - 21s 23ms/step - loss: 0.0796 - accuracy: 0.9786\n",
            "Epoch 12/20\n",
            "938/938 [==============================] - 21s 22ms/step - loss: 0.0757 - accuracy: 0.9799\n",
            "Epoch 13/20\n",
            "938/938 [==============================] - 20s 22ms/step - loss: 0.0724 - accuracy: 0.9806\n",
            "Epoch 14/20\n",
            "877/938 [===========================>..] - ETA: 1s - loss: 0.0685 - accuracy: 0.9819"
          ],
          "name": "stdout"
        }
      ]
    },
    {
      "cell_type": "code",
      "metadata": {
        "id": "BQ94Q_4bJccv",
        "colab_type": "code",
        "colab": {}
      },
      "source": [
        "# batch size 10\n",
        "model.fit(X_train, Y_train, batch_size=10, epochs=20, verbose=3)"
      ],
      "execution_count": null,
      "outputs": []
    },
    {
      "cell_type": "markdown",
      "metadata": {
        "id": "TGg2KMa6HjnO",
        "colab_type": "text"
      },
      "source": [
        "Evaluate your models' performances on your test set. Compare the results of your models."
      ]
    },
    {
      "cell_type": "code",
      "metadata": {
        "id": "XHNWM9P0HkDv",
        "colab_type": "code",
        "colab": {
          "base_uri": "https://localhost:8080/",
          "height": 55
        },
        "outputId": "8fc8a350-b6a9-4f6f-9fa3-718623e662e3"
      },
      "source": [
        "score = model.evaluate(X_test, Y_test, verbose=1)\n",
        "print('Test score:', score[0])\n",
        "print('Test accuracy:', score[1])"
      ],
      "execution_count": null,
      "outputs": [
        {
          "output_type": "stream",
          "text": [
            "Test score: 0.14428776502609253\n",
            "Test accuracy: 0.9584000110626221\n"
          ],
          "name": "stdout"
        }
      ]
    },
    {
      "cell_type": "code",
      "metadata": {
        "id": "1GztAoROIwT0",
        "colab_type": "code",
        "colab": {}
      },
      "source": [
        "score = model.evaluate(X_test, Y_test, verbose=2)\n",
        "print('Test score:', score[0])\n",
        "print('Test accuracy:', score[1])"
      ],
      "execution_count": null,
      "outputs": []
    },
    {
      "cell_type": "code",
      "metadata": {
        "id": "lZmb8Mq2JrQZ",
        "colab_type": "code",
        "colab": {}
      },
      "source": [
        "score = model.evaluate(X_test, Y_test, verbose=3)\n",
        "print('Test score:', score[0])\n",
        "print('Test accuracy:', score[1])"
      ],
      "execution_count": null,
      "outputs": []
    },
    {
      "cell_type": "code",
      "metadata": {
        "id": "MAiGvUriJyTv",
        "colab_type": "code",
        "colab": {}
      },
      "source": [
        ""
      ],
      "execution_count": null,
      "outputs": []
    },
    {
      "cell_type": "markdown",
      "metadata": {
        "id": "8JCGIlsAKnav",
        "colab_type": "text"
      },
      "source": [
        "Models with the highest accuracy is batch size 20. Models are peforming using accuracy versus test.  "
      ]
    },
    {
      "cell_type": "code",
      "metadata": {
        "id": "iYKaMGSRLBFf",
        "colab_type": "code",
        "colab": {}
      },
      "source": [
        ""
      ],
      "execution_count": null,
      "outputs": []
    }
  ]
}