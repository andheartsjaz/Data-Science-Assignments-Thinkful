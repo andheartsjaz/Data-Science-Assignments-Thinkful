{
  "nbformat": 4,
  "nbformat_minor": 0,
  "metadata": {
    "colab": {
      "name": "LinearClassifier_Assignment.ipynb",
      "provenance": [],
      "collapsed_sections": [],
      "include_colab_link": true
    },
    "kernelspec": {
      "display_name": "Python 3",
      "language": "python",
      "name": "python3"
    },
    "language_info": {
      "codemirror_mode": {
        "name": "ipython",
        "version": 3
      },
      "file_extension": ".py",
      "mimetype": "text/x-python",
      "name": "python",
      "nbconvert_exporter": "python",
      "pygments_lexer": "ipython3",
      "version": "3.7.3"
    }
  },
  "cells": [
    {
      "cell_type": "markdown",
      "metadata": {
        "id": "view-in-github",
        "colab_type": "text"
      },
      "source": [
        "<a href=\"https://colab.research.google.com/github/andheartsjaz/Data-Science-Assignments-Thinkful/blob/master/LinearClassifier_Assignment.ipynb\" target=\"_parent\"><img src=\"https://colab.research.google.com/assets/colab-badge.svg\" alt=\"Open In Colab\"/></a>"
      ]
    },
    {
      "cell_type": "markdown",
      "metadata": {
        "colab_type": "text",
        "id": "6I4eycOvylvk"
      },
      "source": [
        "## Linear Classifiers\n",
        "In this assignment you will load a dataset and train a Logistic regression Classifier.\n",
        "\n",
        "### The Dataset\n",
        "This dataset is composed of a range of biomedical voice measurements from 31 people, 23 with Parkinson's disease (PD). Each column in the table is a particular voice measure, and each row corresponds one of 195 voice recording from these individuals (\"name\" column). The main aim of the data is to discriminate healthy people from those with PD, according to \"status\" column which is set to 0 for healthy and 1 for PD. \n",
        "\n"
      ]
    },
    {
      "cell_type": "markdown",
      "metadata": {
        "colab_type": "text",
        "id": "0yC0ZA6dy1QV"
      },
      "source": [
        "### 1. Import necessary packages\n",
        "\n",
        "For this exercise we need\n",
        "\n",
        " - pandas\n",
        " - train_test_split\n",
        " - LogisticRegression\n",
        " - pyplot from matplotlib"
      ]
    },
    {
      "cell_type": "code",
      "metadata": {
        "colab_type": "code",
        "id": "XTA2-4TWs-Od",
        "colab": {}
      },
      "source": [
        "import pandas as pd\n",
        "from sklearn.model_selection import train_test_split\n",
        "# import logistic regression classifier\n",
        "from sklearn.linear_model import LogisticRegression\n",
        "import matplotlib.pyplot as plt\n",
        "# import numpy\n",
        "import numpy as np\n",
        "\n",
        "%matplotlib inline"
      ],
      "execution_count": 0,
      "outputs": []
    },
    {
      "cell_type": "markdown",
      "metadata": {
        "colab_type": "text",
        "id": "_OzR2Q1mzNsj"
      },
      "source": [
        "### 2. Load and prepare the dataset\n",
        "\n",
        "\n",
        "1.   Load the dataset into a dataframe named **df_data** (this step is done for you).\n",
        "2.   Drop the name column. This column is not a feature required by the model.\n",
        "3.   Create a dataframe named **X** containing all the columns except the status.\n",
        "4.   Create a dataframe named **y** containing the status.\n",
        "\n"
      ]
    },
    {
      "cell_type": "code",
      "metadata": {
        "colab_type": "code",
        "id": "YiVjEgccA2Jf",
        "colab": {}
      },
      "source": [
        "df_data = pd.read_csv('http://archive.ics.uci.edu/ml/machine-learning-databases/parkinsons/parkinsons.data')\n",
        "df_data = df_data.drop(['name'], axis=1)\n",
        "X = df_data.drop(['status'], axis = 1)\n",
        "y = df_data['status']"
      ],
      "execution_count": 0,
      "outputs": []
    },
    {
      "cell_type": "code",
      "metadata": {
        "id": "gB-Jhg_2cbLH",
        "colab_type": "code",
        "outputId": "58d0b1a1-5b0c-4043-d7ea-595484119884",
        "colab": {
          "base_uri": "https://localhost:8080/",
          "height": 119
        }
      },
      "source": [
        "df_data.columns"
      ],
      "execution_count": 0,
      "outputs": [
        {
          "output_type": "execute_result",
          "data": {
            "text/plain": [
              "Index(['MDVP:Fo(Hz)', 'MDVP:Fhi(Hz)', 'MDVP:Flo(Hz)', 'MDVP:Jitter(%)',\n",
              "       'MDVP:Jitter(Abs)', 'MDVP:RAP', 'MDVP:PPQ', 'Jitter:DDP',\n",
              "       'MDVP:Shimmer', 'MDVP:Shimmer(dB)', 'Shimmer:APQ3', 'Shimmer:APQ5',\n",
              "       'MDVP:APQ', 'Shimmer:DDA', 'NHR', 'HNR', 'status', 'RPDE', 'DFA',\n",
              "       'spread1', 'spread2', 'D2', 'PPE'],\n",
              "      dtype='object')"
            ]
          },
          "metadata": {
            "tags": []
          },
          "execution_count": 30
        }
      ]
    },
    {
      "cell_type": "markdown",
      "metadata": {
        "colab_type": "text",
        "id": "f4J4svVN0Q-8"
      },
      "source": [
        "### 3. Split the dataset into a training set and a test set"
      ]
    },
    {
      "cell_type": "code",
      "metadata": {
        "colab_type": "code",
        "id": "WWB4ApBJCCOg",
        "colab": {}
      },
      "source": [
        "# split here\n",
        "X_train, X_test, y_train, y_test = train_test_split(X, y)"
      ],
      "execution_count": 0,
      "outputs": []
    },
    {
      "cell_type": "markdown",
      "metadata": {
        "colab_type": "text",
        "id": "wdUpUqvx0Xy3"
      },
      "source": [
        "### 4. Create the model\n",
        "\n",
        "\n",
        "1.   Instantiate a Logistic Regression classifier with a `lbfgs` solver and penalty set to 'none'.\n",
        "2.   Fit the classifier to the data.\n",
        "\n",
        "*If the algorithm fails to converge, what change can you make to fix that?*\n",
        "\n"
      ]
    },
    {
      "cell_type": "code",
      "metadata": {
        "colab_type": "code",
        "id": "bJZKapCoBrbZ",
        "outputId": "0c30496c-f633-4fc0-8456-108b57af303e",
        "colab": {
          "base_uri": "https://localhost:8080/",
          "height": 102
        }
      },
      "source": [
        "lr = LogisticRegression(solver='lbfgs', penalty='none', max_iter=1000)\n",
        "lr.fit(X_train, y_train)\n"
      ],
      "execution_count": 0,
      "outputs": [
        {
          "output_type": "execute_result",
          "data": {
            "text/plain": [
              "LogisticRegression(C=1.0, class_weight=None, dual=False, fit_intercept=True,\n",
              "                   intercept_scaling=1, l1_ratio=None, max_iter=1000,\n",
              "                   multi_class='warn', n_jobs=None, penalty='none',\n",
              "                   random_state=None, solver='lbfgs', tol=0.0001, verbose=0,\n",
              "                   warm_start=False)"
            ]
          },
          "metadata": {
            "tags": []
          },
          "execution_count": 32
        }
      ]
    },
    {
      "cell_type": "markdown",
      "metadata": {
        "colab_type": "text",
        "id": "xPOOTwC81SEJ"
      },
      "source": [
        "### 5. Calculate Accuracy\n",
        "Calculate and print the accuracy of the model on the test data."
      ]
    },
    {
      "cell_type": "code",
      "metadata": {
        "colab_type": "code",
        "id": "mDb5eFMC1XwX",
        "outputId": "eb151ee7-951d-4507-8c35-0748d5205d60",
        "colab": {
          "base_uri": "https://localhost:8080/",
          "height": 34
        }
      },
      "source": [
        "lr_score = lr.score(X_test, y_test)\n",
        "\n",
        "print('Accuracy of Logistic Regression without regularization: {:.3f}'.format(lr_score))"
      ],
      "execution_count": 0,
      "outputs": [
        {
          "output_type": "stream",
          "text": [
            "Accuracy of Logistic Regression without regularization: 0.755\n"
          ],
          "name": "stdout"
        }
      ]
    },
    {
      "cell_type": "markdown",
      "metadata": {
        "colab_type": "text",
        "id": "4HZWaREW2lGw"
      },
      "source": [
        "### 6. L2 Regularization\n",
        "Train another model with L2 regularization and compare the accuracy of the new model to the previous one.\n"
      ]
    },
    {
      "cell_type": "code",
      "metadata": {
        "colab_type": "code",
        "id": "VF_-VldG3A8I",
        "outputId": "ee391636-27d4-4fed-f75b-3986d5a8778e",
        "colab": {
          "base_uri": "https://localhost:8080/",
          "height": 34
        }
      },
      "source": [
        "# create model, fit and calculate score here\n",
        "lr = LogisticRegression(solver='lbfgs', penalty='l2', max_iter=10000) # note: when we increased to 10000, from 1000, accuracy increased to 81%\n",
        "lr.fit(X_train, y_train)\n",
        "lr_score = lr.score(X_test, y_test)\n",
        "\n",
        "print('Accuracy of Logistic Regression with L2 regularization: {:.3f}'.format(lr_score))\n"
      ],
      "execution_count": 0,
      "outputs": [
        {
          "output_type": "stream",
          "text": [
            "Accuracy of Logistic Regression with L2 regularization: 0.816\n"
          ],
          "name": "stdout"
        }
      ]
    },
    {
      "cell_type": "markdown",
      "metadata": {
        "colab_type": "text",
        "id": "9LhZoke83cHD"
      },
      "source": [
        "### 7. Choose the C parameter\n",
        "Use a loop to test the effect of varying the C parameter from 0.05 to 1.5 in increments of 0.5. Plot a graph to show the accuracy on the test data versus the accuracy on the training data. Select an appropriate value for C and explain why that may be the best value."
      ]
    },
    {
      "cell_type": "code",
      "metadata": {
        "colab_type": "code",
        "id": "ddNMl7kN15N3",
        "outputId": "b3033c50-9b47-496e-dac8-516896ac0e1e",
        "colab": {
          "base_uri": "https://localhost:8080/",
          "height": 295
        }
      },
      "source": [
        "c_vals = np.arange(0.05, 1.5, 0.05)\n",
        "test_accuracy = []\n",
        "train_accuracy = []\n",
        "\n",
        "for c in c_vals:\n",
        "  lr = LogisticRegression(solver='lbfgs', penalty='l2', C=c, max_iter=10000)\n",
        "  lr.fit(X_train, y_train)\n",
        "  test_accuracy.append(lr.score(X_test, y_test))\n",
        "  train_accuracy.append(lr.score(X_train, y_train))\n",
        "\n",
        "fig = plt.figure(figsize=(8, 4))\n",
        "ax1 = fig.add_subplot(1, 1, 1)\n",
        "ax1.plot(c_vals, test_accuracy, '-g', label='Test Accuracy')\n",
        "ax1.plot(c_vals, train_accuracy, '-b', label='Train Accuracy')\n",
        "ax1.set(xlabel='C', ylabel='Accuracy')\n",
        "ax1.set_title('Effect of C on Accuracy')\n",
        "ax1.legend()\n",
        "plt.show()"
      ],
      "execution_count": 0,
      "outputs": [
        {
          "output_type": "display_data",
          "data": {
            "image/png": "[encoded data removed]",
            "text/plain": [
              "<Figure size 576x288 with 1 Axes>"
            ]
          },
          "metadata": {
            "tags": []
          }
        }
      ]
    },
    {
      "cell_type": "markdown",
      "metadata": {
        "colab_type": "text",
        "id": "39XAG5Ea4QEx"
      },
      "source": [
        "From the graph above the best value for C occur between 0.4 and 0.6, although we could also state this for the area occuring around 1.4. This/these regions minimize(s) the difference between the test and training accuracy implying the least amount of overfitting is occuring."
      ]
    }
  ]
}